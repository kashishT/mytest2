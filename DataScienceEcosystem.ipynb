{
 "cells": [
  {
   "cell_type": "markdown",
   "id": "5ac55e09",
   "metadata": {},
   "source": [
    "# Data Science Tools and Ecosystem"
   ]
  },
  {
   "cell_type": "markdown",
   "id": "e51142bc",
   "metadata": {},
   "source": [
    "In this notebook, Data Science Tools and Ecosystem are summarized."
   ]
  },
  {
   "cell_type": "markdown",
   "id": "71ad514c",
   "metadata": {},
   "source": [
    "Some of the popular languages that Data Scientists use are:\n",
    "1. Python\n",
    "2. R\n",
    "3. SQL"
   ]
  },
  {
   "cell_type": "markdown",
   "id": "67ac80d0",
   "metadata": {},
   "source": [
    "Some of the commonly used libraries used by Data Scientists include:\n",
    "\n",
    "1. Pandas\n",
    "2. Numpy\n",
    "3. Matplotlibs"
   ]
  },
  {
   "cell_type": "markdown",
   "id": "85376ea1",
   "metadata": {},
   "source": [
    "|Data Science Tools|\n",
    "|------------------|\n",
    "|Jupyter|\n",
    "|Rstudio|\n",
    "|Spyder|\n"
   ]
  },
  {
   "cell_type": "markdown",
   "id": "b811e695",
   "metadata": {},
   "source": [
    "### Below are a few examples of evaluating arithmetic expressions in Python"
   ]
  },
  {
   "cell_type": "markdown",
   "id": "da36e0c0",
   "metadata": {},
   "source": [
    "This a simple arithmetic expression to mutiply then add integers"
   ]
  },
  {
   "cell_type": "code",
   "execution_count": 1,
   "id": "76e3bf51",
   "metadata": {},
   "outputs": [
    {
     "data": {
      "text/plain": [
       "17"
      ]
     },
     "execution_count": 1,
     "metadata": {},
     "output_type": "execute_result"
    }
   ],
   "source": [
    "(3*4)+5"
   ]
  },
  {
   "cell_type": "markdown",
   "id": "58521be3",
   "metadata": {},
   "source": [
    "This will convert 200 minutes to hours by diving by 60."
   ]
  },
  {
   "cell_type": "code",
   "execution_count": 2,
   "id": "317e3991",
   "metadata": {},
   "outputs": [
    {
     "name": "stdout",
     "output_type": "stream",
     "text": [
      "3.3333333333333335,hours\n"
     ]
    }
   ],
   "source": [
    "a = 200\n",
    "b = 60\n",
    "result = a/b\n",
    "print(f\"{result},hours\")"
   ]
  },
  {
   "cell_type": "markdown",
   "id": "1bc51bce",
   "metadata": {},
   "source": [
    "**Objectives:**\n",
    "- Deep learning is a specialized type of machine learning. It refers to ageneral set of models and techniques that looselyemulate the way the human brain solves a wide range ofproblems\n",
    "- Jupyter Lab is browser-based application that allows you to accessmultiple Jupyter Notebook files, other code, and datafiles\n",
    "- ML Machine learning uses algorithms – also known as “models” - to identify patterns in the data\n",
    "- NumPy Libraries are based on arrays and matrices, allowingyou to apply mathematical functions to the arrays"
   ]
  },
  {
   "cell_type": "markdown",
   "id": "fcab0ca6",
   "metadata": {},
   "source": [
    "## Author\n",
    "Kashish Trivedi"
   ]
  },
  {
   "cell_type": "code",
   "execution_count": null,
   "id": "52a93933",
   "metadata": {},
   "outputs": [],
   "source": []
  }
 ],
 "metadata": {
  "kernelspec": {
   "display_name": "Python 3 (ipykernel)",
   "language": "python",
   "name": "python3"
  },
  "language_info": {
   "codemirror_mode": {
    "name": "ipython",
    "version": 3
   },
   "file_extension": ".py",
   "mimetype": "text/x-python",
   "name": "python",
   "nbconvert_exporter": "python",
   "pygments_lexer": "ipython3",
   "version": "3.8.2"
  }
 },
 "nbformat": 4,
 "nbformat_minor": 5
}
